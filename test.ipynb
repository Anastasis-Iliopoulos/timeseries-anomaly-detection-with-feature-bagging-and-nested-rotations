{
 "cells": [
  {
   "cell_type": "code",
   "execution_count": 1,
   "metadata": {},
   "outputs": [],
   "source": [
    "import pipeline_models as pl\n",
    "import pandas as pd\n",
    "import numpy as np\n",
    "import os\n",
    "\n",
    "from IPython.display import display, HTML\n",
    "from IPython.display import clear_output"
   ]
  },
  {
   "cell_type": "code",
   "execution_count": 3,
   "metadata": {},
   "outputs": [],
   "source": [
    "all_files=[]\n",
    "all_files_name = []\n",
    "for root, dirs, files in os.walk(\"./data/\"):\n",
    "    for file in files:\n",
    "        if file.endswith(\".csv\"):\n",
    "            all_files.append(os.path.join(root, file))\n",
    "            all_files_name.append(root.split(\"/\")[-1] + \"_\" + file.replace(\".\", \"_\"))\n",
    "# df = pd.read_csv()\n",
    "for i in range(1,30):\n",
    "    df = pd.read_csv(all_files[i], \n",
    "                sep=';', \n",
    "                index_col='datetime', \n",
    "                parse_dates=True)\n",
    "\n",
    "    autoencoder = pl.PipelineModel()\n",
    "    autoencoder.apply_standard_scaling(())\n",
    "    autoencoder.apply_nested_rotations((2, 0.75))\n",
    "    autoencoder.apply_feature_bagging(())\n",
    "    autoencoder.apply_model((\"ae\", \"task_name_1\"))\n",
    "\n",
    "    autoencoder.pipeline_fit(df[:400].drop(['anomaly', 'changepoint'], axis=1))\n",
    "\n",
    "    final_df = autoencoder.pipeline_transform(df.drop(['anomaly', 'changepoint'], axis=1))\n",
    "\n",
    "    final_df[\"final_anomaly\"] = (final_df[\"anomaly_by_autoencoder_task_name_1_score\"] > (3/2) * autoencoder.model.UCL).astype(int)\n",
    "    print(f'MAX: {final_df[\"anomaly_by_autoencoder_task_name_1_score\"].max()}, {3/2*autoencoder.model.UCL}, {(3/2)*autoencoder.model.UCL}')\n",
    "    print(autoencoder.model.model_name)\n",
    "    print(autoencoder.model.model)\n",
    "    print(autoencoder.model.UCL)\n",
    "    print(autoencoder.model.anomaly_col)\n",
    "    display(final_df.groupby([\"final_anomaly\"]).count())"
   ]
  },
  {
   "cell_type": "code",
   "execution_count": 9,
   "metadata": {},
   "outputs": [
    {
     "name": "stdout",
     "output_type": "stream",
     "text": [
      "(745, 10)\n",
      "12.275505719405274 - 17.007816131835693\n",
      "(745, 2)\n"
     ]
    },
    {
     "data": {
      "text/html": [
       "<div>\n",
       "<style scoped>\n",
       "    .dataframe tbody tr th:only-of-type {\n",
       "        vertical-align: middle;\n",
       "    }\n",
       "\n",
       "    .dataframe tbody tr th {\n",
       "        vertical-align: top;\n",
       "    }\n",
       "\n",
       "    .dataframe thead th {\n",
       "        text-align: right;\n",
       "    }\n",
       "</style>\n",
       "<table border=\"1\" class=\"dataframe\">\n",
       "  <thead>\n",
       "    <tr style=\"text-align: right;\">\n",
       "      <th></th>\n",
       "      <th>anomaly_by_autoencoder_task_name_1_score</th>\n",
       "    </tr>\n",
       "    <tr>\n",
       "      <th>final_anomaly</th>\n",
       "      <th></th>\n",
       "    </tr>\n",
       "  </thead>\n",
       "  <tbody>\n",
       "    <tr>\n",
       "      <th>0</th>\n",
       "      <td>642</td>\n",
       "    </tr>\n",
       "    <tr>\n",
       "      <th>1</th>\n",
       "      <td>103</td>\n",
       "    </tr>\n",
       "  </tbody>\n",
       "</table>\n",
       "</div>"
      ],
      "text/plain": [
       "               anomaly_by_autoencoder_task_name_1_score\n",
       "final_anomaly                                          \n",
       "0                                                   642\n",
       "1                                                   103"
      ]
     },
     "execution_count": 9,
     "metadata": {},
     "output_type": "execute_result"
    }
   ],
   "source": [
    "df = pd.read_csv(all_files[1], \n",
    "                sep=';', \n",
    "                index_col='datetime', \n",
    "                parse_dates=True)\n",
    "print(df.shape)\n",
    "autoencoder = pl.PipelineModel()\n",
    "autoencoder.apply_standard_scaling(())\n",
    "autoencoder.apply_nested_rotations((2, 0.75))\n",
    "autoencoder.apply_feature_bagging(())\n",
    "\n",
    "autoencoder.apply_model((\"ae\", \"task_name_1\"))\n",
    "\n",
    "\n",
    "autoencoder.pipeline_fit(df[:400].drop(['anomaly', 'changepoint'], axis=1))\n",
    "a = autoencoder.pipeline_transform(df.drop(['anomaly', 'changepoint'], axis=1))\n",
    "print(f\"{(3/2) * autoencoder.model.UCL} - {a['anomaly_by_autoencoder_task_name_1_score'].max()}\")\n",
    "a[\"final_anomaly\"] = (a['anomaly_by_autoencoder_task_name_1_score'] > (3/2)*autoencoder.model.UCL).astype(int)\n",
    "print(a.shape)\n",
    "a.groupby(['final_anomaly']).count()"
   ]
  },
  {
   "cell_type": "code",
   "execution_count": 6,
   "metadata": {},
   "outputs": [
    {
     "data": {
      "text/plain": [
       "[('anomaly_by_autoencoder_task_name_1_score',\n",
       "  6.0098352468710505,\n",
       "  0.4351935963220172)]"
      ]
     },
     "execution_count": 6,
     "metadata": {},
     "output_type": "execute_result"
    }
   ],
   "source": [
    "[(col,a[col].max(), a[col].min()) for col in a.columns.tolist()]"
   ]
  }
 ],
 "metadata": {
  "kernelspec": {
   "display_name": "Python 3",
   "language": "python",
   "name": "python3"
  },
  "language_info": {
   "codemirror_mode": {
    "name": "ipython",
    "version": 3
   },
   "file_extension": ".py",
   "mimetype": "text/x-python",
   "name": "python",
   "nbconvert_exporter": "python",
   "pygments_lexer": "ipython3",
   "version": "3.7.8"
  },
  "orig_nbformat": 4
 },
 "nbformat": 4,
 "nbformat_minor": 2
}
