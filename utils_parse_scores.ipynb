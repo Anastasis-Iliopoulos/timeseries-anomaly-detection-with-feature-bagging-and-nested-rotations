{
 "cells": [
  {
   "cell_type": "code",
   "execution_count": 1,
   "metadata": {},
   "outputs": [],
   "source": [
    "import pandas as pd\n",
    "import numpy as np\n",
    "import matplotlib.pyplot as plt\n",
    "import seaborn as sns\n",
    "from sklearn.metrics import roc_auc_score, f1_score\n",
    "import os\n",
    "# pd.options.mode.chained_assignment = None\n"
   ]
  },
  {
   "cell_type": "code",
   "execution_count": 3,
   "metadata": {},
   "outputs": [],
   "source": [
    "def get_anomalies_from_list(models_list):\n",
    "    tmp_list = []\n",
    "    for model, name in models_list:\n",
    "        pairs = []\n",
    "        for cl in model.columns.to_list():\n",
    "            if \"score\" in cl:\n",
    "                tmp = cl[:-6]\n",
    "                pairs.append((tmp, tmp+\"_score\", tmp+\"_ucl\"))\n",
    "        for pair in pairs:\n",
    "            model[pair[0]] = (model[pair[1]] > model[pair[2]]).astype(\"int\")\n",
    "        tmp_list.append((model[[\"anomaly\"] + [pair[0] for pair in pairs]], name))\n",
    "    return tmp_list"
   ]
  },
  {
   "cell_type": "code",
   "execution_count": 4,
   "metadata": {},
   "outputs": [],
   "source": [
    "def get_ensemble_models_from_list(models_list):\n",
    "    tmp_list = []\n",
    "    for model, name in models_list:\n",
    "        for cl in model.columns.to_list():\n",
    "            if \"anomaly_by_\" in cl:\n",
    "                model[cl] = model.apply(lambda x: -1 if x[cl]==0 else 1, axis=1)\n",
    "\n",
    "        model[\"predicted\"] = model.drop(\"anomaly\", axis=1).apply(np.sum, axis=1)\n",
    "        model[\"predicted\"] = model.apply(lambda x: 1 if x[\"predicted\"]>0 else 0, axis=1)\n",
    "        tmp_list.append((model[[\"anomaly\", \"predicted\"]], name))\n",
    "    return tmp_list"
   ]
  },
  {
   "cell_type": "code",
   "execution_count": 2,
   "metadata": {},
   "outputs": [],
   "source": [
    "def get_anomalies(filename):\n",
    "    df = pd.read_csv(f\"{filename}\")\n",
    "    cols = df.columns.to_list()\n",
    "    basic = [cl for cl in cols if \"basic\" in cl]\n",
    "    rotation = [cl for cl in cols if \"rotation\" in cl]\n",
    "    fbagging = [cl for cl in cols if \"fbagging\" in cl]\n",
    "\n",
    "    ae_basic = df[[\"anomaly\"]+[cl for cl in basic if \"anomaly_by_autoencoder_basic\" in cl]]\n",
    "    conv_ae_basic = df[[\"anomaly\"]+[cl for cl in basic if \"anomaly_by_conv_ae_basic\" in cl]]\n",
    "    lstm_basic = df[[\"anomaly\"]+[cl for cl in basic if \"anomaly_by_lstm_basic\" in cl]]\n",
    "    lstm_ae_basic = df[[\"anomaly\"]+[cl for cl in basic if \"anomaly_by_lstm_ae_basic\" in cl]]\n",
    "    lstm_vae_basic = df[[\"anomaly\"]+[cl for cl in basic if \"anomaly_by_lstm_vae_basic\" in cl]]\n",
    "    basic_models_list = [(ae_basic, \"autoencoder_basic\"), (conv_ae_basic, \"conv_ae_basic\"), (lstm_basic, \"LSTM_basic\"), \n",
    "                        (lstm_ae_basic, \"LSTM_autoencoder_basic\"), (lstm_vae_basic, \"LSTM_VAE_basic\")]\n",
    "\n",
    "    ae_fbagging = df[[\"anomaly\"]+[cl for cl in fbagging if \"anomaly_by_autoencoder_fbagging\" in cl]]\n",
    "    conv_ae_fbagging = df[[\"anomaly\"]+[cl for cl in fbagging if \"anomaly_by_conv_ae_fbagging\" in cl]]\n",
    "    lstm_fbagging = df[[\"anomaly\"]+[cl for cl in fbagging if \"anomaly_by_lstm_fbagging\" in cl]]\n",
    "    lstm_ae_fbagging = df[[\"anomaly\"]+[cl for cl in fbagging if \"anomaly_by_lstm_ae_fbagging\" in cl]]\n",
    "    lstm_vae_fbagging = df[[\"anomaly\"]+[cl for cl in fbagging if \"anomaly_by_lstm_vae_fbagging\" in cl]]\n",
    "    fbagging_models_list = [(ae_fbagging, \"autoencoder_Feature_Bagging\"), (conv_ae_fbagging, \"conv_ae_Feature_Bagging\"), \n",
    "                            (lstm_fbagging, \"LSTM_Feature_Bagging\"), (lstm_ae_fbagging, \"LSTM_autoencoder_Feature_Bagging\"), \n",
    "                            (lstm_vae_fbagging, \"LSTM_VAE_Feature_Bagging\")]\n",
    "\n",
    "    ae_rotation = df[[\"anomaly\"]+[cl for cl in rotation if \"anomaly_by_autoencoder_rotation\" in cl]]\n",
    "    conv_ae_rotation = df[[\"anomaly\"]+[cl for cl in rotation if \"anomaly_by_conv_ae_rotation\" in cl]]\n",
    "    lstm_rotation = df[[\"anomaly\"]+[cl for cl in rotation if \"anomaly_by_lstm_rotation\" in cl]]\n",
    "    lstm_ae_rotation = df[[\"anomaly\"]+[cl for cl in rotation if \"anomaly_by_lstm_ae_rotation\" in cl]]\n",
    "    lstm_vae_rotation = df[[\"anomaly\"]+[cl for cl in rotation if \"anomaly_by_lstm_vae_rotation\" in cl]]\n",
    "    rotation_models_list = [(ae_rotation, \"autoencoder_FBR\"), (conv_ae_rotation, \"conv_ae_FBR\"), (lstm_rotation, \"LSTM_FBR\"), \n",
    "                            (lstm_ae_rotation, \"LSTM_autoencoder_FBR\"), (lstm_vae_rotation, \"LSTM_VAE_FBR\")]\n",
    "\n",
    "    basic_models_list = get_anomalies_from_list(basic_models_list)\n",
    "    fbagging_models_list = get_anomalies_from_list(fbagging_models_list)\n",
    "    rotation_models_list = get_anomalies_from_list(rotation_models_list)\n",
    "\n",
    "    basic_models_list = get_ensemble_models_from_list(basic_models_list)\n",
    "    fbagging_models_list = get_ensemble_models_from_list(fbagging_models_list)\n",
    "    rotation_models_list = get_ensemble_models_from_list(rotation_models_list)\n",
    "\n",
    "    return basic_models_list, fbagging_models_list, rotation_models_list"
   ]
  },
  {
   "cell_type": "code",
   "execution_count": 8,
   "metadata": {},
   "outputs": [],
   "source": [
    "def plot_confusion_matrix_all(basic_models_list, fbagging_models_list, rotation_models_list, save_folder=None, save_image_name=None):\n",
    "    px = 1/plt.rcParams['figure.dpi']\n",
    "\n",
    "    fig = plt.figure(figsize=(1920*px, 1080*px))\n",
    "    # fig = plt.figure(figsize = (24,8))\n",
    "    fig.patch.set_facecolor((1,1,1,1))\n",
    "    fig.patch.set_alpha(1.0)\n",
    "\n",
    "    df_list = basic_models_list + fbagging_models_list + rotation_models_list\n",
    "\n",
    "\n",
    "    fig.subplots_adjust(hspace=1.2, wspace=0.5)\n",
    "\n",
    "    for i, tmp_df in enumerate(df_list):\n",
    "        df = tmp_df[0]\n",
    "        df_name = tmp_df[1]\n",
    "        ax = fig.add_subplot(3, 5, i+1)\n",
    "\n",
    "        roc_number = roc_auc_score(df[\"anomaly\"], df[\"predicted\"])\n",
    "        F1 = f1_score(df[\"anomaly\"], df[\"predicted\"])\n",
    "\n",
    "        model_title = df_name.replace(\"_\",\" \")\n",
    "        \n",
    "        custom_title = f\"{model_title}\\nF1: {F1}\\nAUC: {roc_number}\"\n",
    "        confusion_matrix = pd.crosstab(df[\"anomaly\"], df[\"predicted\"], rownames=['Actual'], colnames=['Predicted'])\n",
    "        g = sns.heatmap(confusion_matrix, annot=True, fmt='g', ax = ax).set_title(custom_title)\n",
    "\n",
    "    fig.tight_layout()\n",
    "    if (save_image_name is not None) and (save_folder is not None):\n",
    "        image_path = str(save_image_name)\n",
    "        # remove white space\n",
    "        plt.savefig(f\"{save_folder}/{image_path}.png\", bbox_inches='tight')\n",
    "    \n",
    "    plt.show()"
   ]
  },
  {
   "attachments": {},
   "cell_type": "markdown",
   "metadata": {},
   "source": [
    "# Main"
   ]
  },
  {
   "cell_type": "code",
   "execution_count": null,
   "metadata": {},
   "outputs": [],
   "source": [
    "def plot_confusion_matrix_fast_folders():\n",
    "    all_files=[]\n",
    "    for root, dirs, files in os.walk(\"./\"):\n",
    "        for file in files:\n",
    "            if file.endswith(\".csv\"):\n",
    "                if \"df_values_scores\" in file:\n",
    "                    all_files.append((root, os.path.join(root, file)))\n",
    "\n",
    "    for folder, filename in all_files:\n",
    "        basic_models_list, fbagging_models_list, rotation_models_list = get_anomalies(filename)\n",
    "        plot_confusion_matrix_all(basic_models_list, fbagging_models_list, rotation_models_list, \n",
    "                                save_folder=folder, save_image_name=\"df_values_plot\")"
   ]
  }
 ],
 "metadata": {
  "kernelspec": {
   "display_name": "venv",
   "language": "python",
   "name": "python3"
  },
  "language_info": {
   "codemirror_mode": {
    "name": "ipython",
    "version": 3
   },
   "file_extension": ".py",
   "mimetype": "text/x-python",
   "name": "python",
   "nbconvert_exporter": "python",
   "pygments_lexer": "ipython3",
   "version": "3.7.8"
  },
  "orig_nbformat": 4
 },
 "nbformat": 4,
 "nbformat_minor": 2
}
